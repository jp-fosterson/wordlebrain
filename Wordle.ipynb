{
 "cells": [
  {
   "cell_type": "markdown",
   "metadata": {},
   "source": [
    "![A wordle game](images/trainlouse.png)"
   ]
  },
  {
   "cell_type": "code",
   "execution_count": 2,
   "metadata": {},
   "outputs": [
    {
     "name": "stdout",
     "output_type": "stream",
     "text": [
      "4986.0 SAIRY\n",
      "4985.0 SAILY\n",
      "4900.0 SOLAY\n",
      "4891.0 SOARY\n",
      "4852.0 MANEY\n",
      "4844.0 BARIE\n",
      "4800.0 TARIE\n",
      "4793.0 SORTY\n",
      "4777.0 SEARY\n",
      "4772.0 LANEY\n",
      "...and 8487 more.\n",
      "4986.0 SAIRY\n",
      "4985.0 SAILY\n",
      "4900.0 SOLAY\n",
      "4891.0 SOARY\n",
      "4852.0 MANEY\n",
      "4844.0 BARIE\n",
      "4800.0 TARIE\n",
      "4793.0 SORTY\n",
      "4777.0 SEARY\n",
      "4772.0 LANEY\n",
      "...and 8487 more.\n"
     ]
    }
   ],
   "source": [
    "import wordlebrain\n",
    "import importlib\n",
    "importlib.reload(wordlebrain)\n",
    "from wordlebrain import *"
   ]
  },
  {
   "cell_type": "code",
   "execution_count": 3,
   "metadata": {},
   "outputs": [
    {
     "name": "stdout",
     "output_type": "stream",
     "text": [
      "4595.0 BARNY\n",
      "4560.0 CARTY\n",
      "4461.0 PARLY\n",
      "4438.0 TAILY\n",
      "4430.0 PARTY\n",
      "4355.0 CANTY\n",
      "4348.0 BANTY\n",
      "4310.0 BARDY\n",
      "4286.0 BARKY\n",
      "4266.0 TARDY\n",
      "...and 1237 more.\n"
     ]
    }
   ],
   "source": [
    "guess('mouse','-----')"
   ]
  },
  {
   "cell_type": "code",
   "execution_count": 5,
   "metadata": {},
   "outputs": [
    {
     "name": "stdout",
     "output_type": "stream",
     "text": [
      "4986.0 SAIRY\n",
      "4985.0 SAILY\n",
      "4900.0 SOLAY\n",
      "4891.0 SOARY\n",
      "4852.0 MANEY\n",
      "4844.0 BARIE\n",
      "4800.0 TARIE\n",
      "4793.0 SORTY\n",
      "4777.0 SEARY\n",
      "4772.0 LANEY\n",
      "...and 8487 more.\n"
     ]
    }
   ],
   "source": [
    "reset()"
   ]
  },
  {
   "cell_type": "code",
   "execution_count": 6,
   "metadata": {},
   "outputs": [
    {
     "name": "stdout",
     "output_type": "stream",
     "text": [
      "4986.0 SAIRY\n",
      "4985.0 SAILY\n",
      "4900.0 SOLAY\n",
      "4891.0 SOARY\n",
      "4852.0 MANEY\n",
      "4844.0 BARIE\n",
      "4800.0 TARIE\n",
      "4793.0 SORTY\n",
      "4777.0 SEARY\n",
      "4772.0 LANEY\n",
      "4757.0 SALTY\n",
      "4756.0 GALEY\n",
      "4755.0 SAURY\n",
      "4739.0 CAGEY\n",
      "4738.0 SAUTE\n",
      "4736.0 SAIMY\n",
      "4727.0 CARET\n",
      "4723.0 SAUTY\n",
      "4722.0 SOILY\n",
      "4703.0 SOTIE\n",
      "4693.0 PONEY\n",
      "4676.0 MATEY\n",
      "4662.0 SOLEA\n",
      "4655.0 SABER\n",
      "4641.0 SAUCE\n",
      "4638.0 SOLER\n",
      "4627.0 CAKEY\n",
      "4626.0 SAUCY\n",
      "4619.0 SONLY\n",
      "4608.0 SANDY\n",
      "...and 8467 more.\n"
     ]
    }
   ],
   "source": [
    "show(30)"
   ]
  },
  {
   "cell_type": "code",
   "execution_count": 7,
   "metadata": {},
   "outputs": [
    {
     "name": "stdout",
     "output_type": "stream",
     "text": [
      "4078.0 MOREL\n",
      "4037.0 FOREL\n",
      "4003.0 BOULE\n",
      "3988.0 BIRLE\n",
      "3903.0 LORED\n",
      "3890.0 BUREL\n",
      "3873.0 MONEL\n",
      "3818.0 BODLE\n",
      "3798.0 COBLE\n",
      "3784.0 BOGLE\n",
      "...and 400 more.\n"
     ]
    }
   ],
   "source": [
    "guess('salty','--+--')"
   ]
  },
  {
   "cell_type": "code",
   "execution_count": 8,
   "metadata": {},
   "outputs": [
    {
     "name": "stdout",
     "output_type": "stream",
     "text": [
      "3759.0 CINEL\n",
      "3324.0 CUPEL\n",
      "3183.0 GIBEL\n",
      "3170.0 PIKEL\n",
      "3058.0 DIVEL\n",
      "2938.4 BEDEL\n",
      "2907.0 KUGEL\n",
      "2829.6000000000004 BEVEL\n",
      "2761.6000000000004 BEZEL\n",
      "2726.4 BEJEL\n",
      "...and 13 more.\n"
     ]
    }
   ],
   "source": [
    "guess('morel','---^^')"
   ]
  },
  {
   "cell_type": "code",
   "execution_count": 9,
   "metadata": {},
   "outputs": [
    {
     "name": "stdout",
     "output_type": "stream",
     "text": [
      "3759.0 CINEL\n",
      "3324.0 CUPEL\n",
      "3170.0 PIKEL\n",
      "2907.0 KUGEL\n",
      "2428.0 WHEEL\n",
      "2299.2000000000003 JHEEL\n",
      "2277.6 KNEEL\n",
      "1757.6000000000001 EXCEL\n",
      "1754.4 EXPEL\n"
     ]
    }
   ],
   "source": [
    "guess('bevel','-+-^^')"
   ]
  },
  {
   "cell_type": "code",
   "execution_count": 10,
   "metadata": {},
   "outputs": [
    {
     "name": "stdout",
     "output_type": "stream",
     "text": [
      "2277.6 KNEEL\n"
     ]
    }
   ],
   "source": [
    "guess('wheel','--^^^')"
   ]
  },
  {
   "cell_type": "code",
   "execution_count": null,
   "metadata": {},
   "outputs": [],
   "source": []
  },
  {
   "cell_type": "markdown",
   "metadata": {},
   "source": [
    "---"
   ]
  },
  {
   "cell_type": "code",
   "execution_count": 13,
   "metadata": {},
   "outputs": [
    {
     "name": "stdout",
     "output_type": "stream",
     "text": [
      "4986.0 SAIRY\n",
      "4985.0 SAILY\n",
      "4900.0 SOLAY\n",
      "4891.0 SOARY\n",
      "4852.0 MANEY\n",
      "4844.0 BARIE\n",
      "4800.0 TARIE\n",
      "4793.0 SORTY\n",
      "4777.0 SEARY\n",
      "4772.0 LANEY\n",
      "...and 8487 more.\n"
     ]
    }
   ],
   "source": [
    "reset()"
   ]
  },
  {
   "cell_type": "code",
   "execution_count": 14,
   "metadata": {},
   "outputs": [
    {
     "name": "stdout",
     "output_type": "stream",
     "text": [
      "4755.0 SAURY\n",
      "4655.0 SABER\n",
      "4582.0 BERAY\n",
      "4574.0 CARSE\n",
      "4567.0 BARSE\n",
      "4546.0 SAVER\n",
      "4539.0 SAWER\n",
      "4536.0 SAKER\n",
      "4502.0 SAYER\n",
      "4483.0 SORAL\n",
      "...and 449 more.\n"
     ]
    }
   ],
   "source": [
    "guess('train','-++--')"
   ]
  },
  {
   "cell_type": "code",
   "execution_count": 15,
   "metadata": {},
   "outputs": [
    {
     "name": "stdout",
     "output_type": "stream",
     "text": [
      "3945.0 HARDY\n",
      "3376.0 HARRY\n",
      "2686.4 HARKA\n",
      "2132.0 HYRAX\n"
     ]
    }
   ],
   "source": [
    "guess('house','^----')"
   ]
  },
  {
   "cell_type": "code",
   "execution_count": 12,
   "metadata": {},
   "outputs": [
    {
     "name": "stdout",
     "output_type": "stream",
     "text": [
      "3468.0 STRAD\n",
      "3232.0 STRAM\n",
      "3208.0 STRAP\n",
      "3157.0 STRAG\n",
      "3096.0 STRAW\n"
     ]
    }
   ],
   "source": [
    "guess('stray','^^^^-')"
   ]
  },
  {
   "cell_type": "code",
   "execution_count": 13,
   "metadata": {},
   "outputs": [],
   "source": [
    "reset()"
   ]
  },
  {
   "cell_type": "code",
   "execution_count": 14,
   "metadata": {},
   "outputs": [
    {
     "name": "stdout",
     "output_type": "stream",
     "text": [
      "4755.0 SAURY\n",
      "4723.0 SAUTY\n",
      "4626.0 SAUCY\n",
      "4190.0 SAULT\n",
      "3943.0 SAULD\n",
      "3541.0 SLUIT\n",
      "3361.6000000000004 SAUNA\n",
      "3297.0 STUDY\n",
      "3277.0 SPUMY\n",
      "3171.0 SQUAT\n",
      "...and 57 more.\n"
     ]
    }
   ],
   "source": [
    "guess('house','--^+-')"
   ]
  },
  {
   "cell_type": "code",
   "execution_count": 15,
   "metadata": {},
   "outputs": [
    {
     "name": "stdout",
     "output_type": "stream",
     "text": [
      "1180.8 USURP\n"
     ]
    }
   ],
   "source": [
    "guess('saury','+-^^-')"
   ]
  },
  {
   "cell_type": "code",
   "execution_count": null,
   "metadata": {},
   "outputs": [],
   "source": []
  }
 ],
 "metadata": {
  "kernelspec": {
   "display_name": "Python 3",
   "language": "python",
   "name": "python3"
  },
  "language_info": {
   "codemirror_mode": {
    "name": "ipython",
    "version": 3
   },
   "file_extension": ".py",
   "mimetype": "text/x-python",
   "name": "python",
   "nbconvert_exporter": "python",
   "pygments_lexer": "ipython3",
   "version": "3.8.2"
  }
 },
 "nbformat": 4,
 "nbformat_minor": 4
}
